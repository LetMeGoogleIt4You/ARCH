{
 "metadata": {
  "language_info": {
   "codemirror_mode": {
    "name": "ipython",
    "version": 3
   },
   "file_extension": ".py",
   "mimetype": "text/x-python",
   "name": "python",
   "nbconvert_exporter": "python",
   "pygments_lexer": "ipython3",
   "version": "3.9.0-final"
  },
  "orig_nbformat": 2,
  "kernelspec": {
   "name": "python3",
   "display_name": "Python 3.9.0 64-bit",
   "metadata": {
    "interpreter": {
     "hash": "ae620c5c24469a82684c9ffa72f1ba778f48c5163f3c53ce54561b6e7d51dda9"
    }
   }
  }
 },
 "nbformat": 4,
 "nbformat_minor": 2,
 "cells": [
  {
   "cell_type": "code",
   "execution_count": 29,
   "metadata": {},
   "outputs": [
    {
     "output_type": "stream",
     "name": "stdout",
     "text": [
      "{'Interface-name': [], 'Status': [], 'Protocol': [], 'Description': [], 'Internet-address': [], 'Duplex': [], 'Speed': [], 'Media-type': []}\n"
     ]
    }
   ],
   "source": [
    "import csv\n",
    "import collections\n",
    "\n",
    " \n",
    "\n",
    "def importCSV(csvFile):\n",
    "    with open(csvFile, 'rU') as csvfile:\n",
    "        reader = csv.reader(csvfile, delimiter=',')\n",
    "\n",
    "\n",
    "        FileInAList = []\n",
    "        for row in reader:\n",
    "            FileInAList.append(row)\n",
    "\n",
    "        headers = FileInAList[0] \n",
    "        body = FileInAList[1:]\n",
    "        \n",
    "        result = {}\n",
    "        for header in headers:\n",
    "            result[header] = []\n",
    "\n",
    "        #for line in body:\n",
    "        #    counter = 0\n",
    "        #    \n",
    "        #    for item in line:\n",
    "        #        result[headers[counter]].append(item)\n",
    "        #        counter +=1\n",
    "        return FileInAList\n",
    "\n",
    "file = \"C:\\\\Users\\\\MrRight\\\\Desktop\\\\csr1000v\\\\showinterfaces.csv\"\n",
    "\n",
    "\n",
    "dict1 =importCSV(file)\n",
    "print(str(dict1))"
   ]
  },
  {
   "cell_type": "code",
   "execution_count": 23,
   "metadata": {},
   "outputs": [
    {
     "output_type": "execute_result",
     "data": {
      "text/plain": [
       "OrderedDict([(1, 89), (2, 3), (3, 0), (4, 5)])"
      ]
     },
     "metadata": {},
     "execution_count": 23
    }
   ],
   "source": [
    "\n"
   ]
  },
  {
   "cell_type": "code",
   "execution_count": null,
   "metadata": {},
   "outputs": [],
   "source": []
  }
 ]
}