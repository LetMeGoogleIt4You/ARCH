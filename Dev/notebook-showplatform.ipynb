{
 "cells": [
  {
   "cell_type": "code",
   "execution_count": 10,
   "metadata": {},
   "outputs": [],
   "source": [
    "import csv\n",
    "\n",
    "pathToCsvFile = \"D:\\\\router\\\\showplatform.csv\"    \n",
    "pathToTextFile = \"D:\\\\router\\\\showplatform.txt\"    \n"
   ]
  },
  {
   "cell_type": "code",
   "execution_count": 11,
   "metadata": {},
   "outputs": [],
   "source": [
    "def OpenTextFile(path):\n",
    "    with open(path) as text_file:\n",
    "        text_file = text_file.read().splitlines()\n",
    "        return text_file"
   ]
  },
  {
   "cell_type": "code",
   "execution_count": 569,
   "metadata": {},
   "outputs": [],
   "source": [
    "def dictToCsv(results,resultsFile):\n",
    "    with open(resultsFile, 'w') as csvfile:\n",
    "        #print(results)\n",
    "        filewriter = csv.writer(csvfile, delimiter=',',lineterminator='\\r')\n",
    "        count = 0\n",
    "        filewriter.writerow([\"Slot\",\"Type\",\"State\",\"InsertTime\",\"CpldVersion\",\"FirmwareVersion\"])\n",
    "        for item in range(0,len(results[\"Slot\"])):\n",
    "            filewriter.writerow([results[\"Slot\"][count],results[\"Type\"][count],results[\"State\"][count],results[\"InsertTime\"][count],results[\"CpldVersion\"][count],results[\"FirmwareVersion\"][count]])\n",
    "            count +=1"
   ]
  },
  {
   "cell_type": "code",
   "execution_count": 570,
   "metadata": {},
   "outputs": [],
   "source": [
    "def makePatformDict(platfromInput):\n",
    "\n",
    "   \n",
    "    platformStatus = {\"Slot\":[],\"Type\":[],\"State\":[],\"InsertTime\":[],\"CpldVersion\":[],\"FirmwareVersion\":[]}\n",
    "    \n",
    "    dictOfcpld = {}\n",
    "    for line in platfromInput:\n",
    "        if \"ok\" in line or \"N/A\" in line:\n",
    "            #print(line)\n",
    "            cleanedList1 = []\n",
    "            #iterate over ar and clean up then line\n",
    "            for item in line.split(\" \"):\n",
    "                if 1 <= len(item):\n",
    "                    cleanedList1.append(item)\n",
    "            platformStatus[\"Slot\"].append(cleanedList1[0])\n",
    "            platformStatus[\"Type\"].append(cleanedList1[1])\n",
    "            platformStatus[\"State\"].append(cleanedList1[2])\n",
    "            platformStatus[\"InsertTime\"].append(cleanedList1[3]) \n",
    "        \n",
    "        \n",
    "\n",
    "        #make a dictionary with slot index as key and CpldVersion FirmwareVersion\n",
    "        phaseLine = \" \".join(line.split()).split(\" \")\n",
    "        if len(phaseLine) == 3 and \")\" in line:\n",
    "            if phaseLine[0] in platformStatus[\"Slot\"]:\n",
    "               dictOfcpld[platformStatus[\"Slot\"].index(phaseLine[0])] = [phaseLine[1], phaseLine[2]]\n",
    "\n",
    "    #append CpldVersion and FirmwareVersion from dictionary\n",
    "    for x in range(0, len(list2)):\n",
    "        if x in dictOfcpld:\n",
    "            platformStatus[\"CpldVersion\"].append(dictOfcpld[x][0])\n",
    "            platformStatus[\"FirmwareVersion\"].append(dictOfcpld[x][1])\n",
    "        else:\n",
    "            platformStatus[\"CpldVersion\"].append(\"N/A\")\n",
    "            platformStatus[\"FirmwareVersion\"].append(\"N/A\")\n",
    "\n",
    "    #print(platformStatus)\n",
    "    return platformStatus"
   ]
  },
  {
   "cell_type": "code",
   "execution_count": 571,
   "metadata": {},
   "outputs": [],
   "source": [
    "def validateinput(platfromInput):\n",
    "    if len(platfromInput) < 2:\n",
    "        return\n",
    "    for line in platfromInput:\n",
    "        if \"% Incomplete command\" in line:\n",
    "            return 1\n",
    "        if \"Switch#\" in line:\n",
    "            return 1\n",
    "        if \"TLB entries\" in line:\n",
    "            return 1"
   ]
  },
  {
   "cell_type": "code",
   "execution_count": 572,
   "metadata": {},
   "outputs": [],
   "source": [
    "def printErrToFile(msg,pathToTextFile):\n",
    "    file = pathToTextFile.replace(\".txt\", \"error.txt\")\n",
    "    with open(file, \"w\") as text_file:\n",
    "        text_file.write(msg)"
   ]
  },
  {
   "cell_type": "code",
   "execution_count": 573,
   "metadata": {
    "tags": []
   },
   "outputs": [
    {
     "output_type": "stream",
     "name": "stdout",
     "text": [
      "{'Slot': ['0', '0/0', '0/1', '1', '1/0', '2', 'R0', 'F0', 'P0', 'P1', 'P2'], 'Type': ['ISR4451-X/K9', 'ISR4451-X-4x1GE', 'NIM-2GE-CU-SFP', 'ISR4451-X/K9', 'SM-X-ES3-24-P', 'ISR4451-X/K9', 'ISR4451-X/K9', 'ISR4451-X/K9', 'PWR-4450-DC', 'PWR-4450-AC', 'ACS-4450-FANASSY'], 'State': ['ok', 'ok', 'ok', 'ok', 'ok', 'ok', 'ok,', 'ok,', 'ok', 'ok', 'ok'], 'InsertTime': ['1y12w', '1y12w', '1y12w', '1y12w', '1y12w', '1y12w', 'active', 'active', '1y12w', '1y12w', '1y12w'], 'CpldVersion': ['15010638', 'N/A', 'N/A', '15010638', 'N/A', '15010638', '15010638', '15010638', 'N/A', 'N/A', 'N/A'], 'FirmwareVersion': ['16.9(1r)', 'N/A', 'N/A', '16.9(1r)', 'N/A', '16.9(1r)', '16.9(1r)', '16.9(1r)', 'N/A', 'N/A', 'N/A']}\n"
     ]
    }
   ],
   "source": [
    "def main(pathToTextFile,pathToCsvFile):\n",
    "    platfromInput = OpenTextFile(pathToTextFile)\n",
    "\n",
    "    #Validate input 0 = good 1 = bad\n",
    "    validationbit = 0\n",
    "    validationbit = validateinput(platfromInput)\n",
    "    if validationbit == 1:\n",
    "        #msg = \"Something input file not valid\"\n",
    "        #printErrToFile(msg,pathToCdpTextFile)\n",
    "        return\n",
    "        \n",
    "    \n",
    "    platformStatus = makePatformDict(platfromInput)\n",
    "    \n",
    "    #Make a platfrom dictionary\n",
    "    #try:\n",
    "    #    platformStatus = makePatformDict(platfromInput)\n",
    "    #except:\n",
    "    #    msg = \"Something happend with the pharsing of the input\"\n",
    "    #    printErrToFile(msg,pathToCdpTextFile)\n",
    "    #    return\n",
    "\n",
    "    \n",
    "\n",
    "    dictToCsv(platformStatus, pathToCsvFile)\n",
    "\n",
    "if __name__ == \"__main__\":\n",
    "    main(pathToTextFile,pathToCsvFile)\n"
   ]
  },
  {
   "cell_type": "code",
   "execution_count": null,
   "metadata": {},
   "outputs": [],
   "source": []
  },
  {
   "cell_type": "code",
   "execution_count": 0,
   "metadata": {},
   "outputs": [],
   "source": [
    "\n"
   ]
  },
  {
   "cell_type": "code",
   "execution_count": null,
   "metadata": {},
   "outputs": [],
   "source": [
    "\n",
    "\n",
    "\n",
    "\n"
   ]
  },
  {
   "cell_type": "code",
   "execution_count": null,
   "metadata": {},
   "outputs": [],
   "source": []
  }
 ],
 "metadata": {
  "kernelspec": {
   "display_name": "Python 3",
   "language": "python",
   "name": "python3"
  },
  "language_info": {
   "codemirror_mode": {
    "name": "ipython",
    "version": 3
   },
   "file_extension": ".py",
   "mimetype": "text/x-python",
   "name": "python",
   "nbconvert_exporter": "python",
   "pygments_lexer": "ipython3",
   "version": "3.7.3-final"
  }
 },
 "nbformat": 4,
 "nbformat_minor": 2
}