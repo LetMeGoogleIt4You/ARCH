{
 "cells": [
  {
   "cell_type": "code",
   "execution_count": 61,
   "metadata": {},
   "outputs": [],
   "source": [
    "import csv\n",
    "pathToCdpCsvFile = \"D:\\\\router\\\\showcdpneidetail2.csv\"    \n",
    "pathToCdpTextFile = \"D:\\\\router\\\\showcdpneidetail2.txt\"    \n",
    "\n"
   ]
  },
  {
   "cell_type": "code",
   "execution_count": 62,
   "metadata": {},
   "outputs": [],
   "source": [
    "#Open textfile\n",
    "def OpenTextFile(pathToCdpTextFile):\n",
    "    with open(pathToCdpTextFile) as text_file:\n",
    "        text_file = text_file.read().splitlines()\n",
    "        return text_file\n"
   ]
  },
  {
   "cell_type": "code",
   "execution_count": 63,
   "metadata": {},
   "outputs": [],
   "source": [
    "#export cdp dictionary to a csv file\n",
    "def dictToCsv(results,resultsFile):\n",
    "    with open(resultsFile, 'w') as csvfile:\n",
    "        filewriter = csv.writer(csvfile, delimiter=',',lineterminator='\\r')\n",
    "        #for result in results:\n",
    "        #    filewriter.writerow([result[\"source\"],result[\"destination\"],result[\"IPaddress\"],result[\"status\"]])\n",
    "        count = 0\n",
    "        filewriter.writerow([\"CdpNeighbor\",\"Remote-ip\", \"Remote-platfrom\", \"Local-interface\", \"Remote-interface\"])\n",
    "        for item in range(0,len(results[\"neighbor\"])):\n",
    "            filewriter.writerow([results[\"neighbor\"][count],results[\"remote-ip\"][count],results[\"remote-platfrom\"][count],results[\"local-interface\"][count],results[\"remote-interface\"][count]])\n",
    "            count +=1\n",
    "\n",
    "            \n"
   ]
  },
  {
   "cell_type": "code",
   "execution_count": 64,
   "metadata": {},
   "outputs": [],
   "source": [
    "#Make a cdp dictionary\n",
    "def makeCdpdict(cdpOutput):\n",
    "    #print(cdpOutput)\n",
    "    cdpNeighbor = {\"neighbor\":[],\"remote-ip\":[],\"remote-platfrom\":[],\"local-interface\":[],\"remote-interface\":[] }\n",
    "    count = 0\n",
    "    for line in cdpOutput:\n",
    "        if \"Device ID:\" in line:\n",
    "            #print(line.split(\"Device ID: \")[1].split(\".\")[0])\n",
    "            cdpNeighbor[\"neighbor\"].append(line.split(\"Device ID: \")[1].split(\".\")[0])\n",
    "            if \"IP address:\" in cdpOutput[count+2]:\n",
    "                #print(cdpOutput[count+2].split(\" \")[-1])\n",
    "                cdpNeighbor[\"remote-ip\"].append(cdpOutput[count+2].split(\" \")[-1])\n",
    "            if \"IP address:\" not in cdpOutput[count+2]:\n",
    "                #print(\"IP address not found\")\n",
    "                cdpNeighbor[\"remote-ip\"].append(\"IP address not found\")\n",
    "            if \"Platform\" in cdpOutput[count+2]:\n",
    "                #print(cdpOutput[count+3].split(\": \")[1].split(\",\")[0])\n",
    "                cdpNeighbor[\"remote-platfrom\"].append(cdpOutput[count+2].split(\": \")[1].split(\",\")[0])\n",
    "            if \"Platform\" in cdpOutput[count+3]:\n",
    "                #print(cdpOutput[count+3].split(\": \")[1].split(\",\")[0])\n",
    "                cdpNeighbor[\"remote-platfrom\"].append(cdpOutput[count+3].split(\": \")[1].split(\",\")[0])\n",
    "            if \"Platform\" in cdpOutput[count+4]:\n",
    "                #print(cdpOutput[count+4].split(\": \")[1].split(\",\")[0])\n",
    "                cdpNeighbor[\"remote-platfrom\"].append(cdpOutput[count+4].split(\": \")[1].split(\",\")[0])\n",
    "            if \"Platform\" not in cdpOutput[count+2] and \"Platform\" not in cdpOutput[count+3] and \"Platform\" not in cdpOutput[count+4]:\n",
    "                    #print(\"Platfrom not found\")\n",
    "                    cdpNeighbor[\"remote-platfrom\"].append(\"Platfrom not found\")\n",
    "\n",
    "            if \"Interface\" in cdpOutput[count+3]:\n",
    "                #print(cdpOutput[count+4].split(\": \")[1].split(\",\")[0])\n",
    "                cdpNeighbor[\"local-interface\"].append(cdpOutput[count+3].split(\": \")[1].split(\",\")[0])\n",
    "                #print(cdpOutput[count+4].split(\": \")[2])\n",
    "                cdpNeighbor[\"remote-interface\"].append(cdpOutput[count+3].split(\": \")[2])\n",
    "            if \"Interface\" in cdpOutput[count+4]:\n",
    "                #print(cdpOutput[count+4].split(\": \")[1].split(\",\")[0])\n",
    "                cdpNeighbor[\"local-interface\"].append(cdpOutput[count+4].split(\": \")[1].split(\",\")[0])\n",
    "                #print(cdpOutput[count+4].split(\": \")[2])\n",
    "                cdpNeighbor[\"remote-interface\"].append(cdpOutput[count+4].split(\": \")[2])\n",
    "            if \"Interface\" in cdpOutput[count+5]:\n",
    "                #print(cdpOutput[count+5].split(\": \")[1].split(\",\")[0])\n",
    "                cdpNeighbor[\"local-interface\"].append(cdpOutput[count+5].split(\": \")[1].split(\",\")[0])\n",
    "                #print(cdpOutput[count+5].split(\": \")[2])\n",
    "                cdpNeighbor[\"remote-interface\"].append(cdpOutput[count+5].split(\": \")[2])\n",
    "            if \"Interface\" not in cdpOutput[count+3] and\"Interface\" not in cdpOutput[count+4] and \"Interface\" not in cdpOutput[count+5]:\n",
    "                    #print(\"local-interface\")\n",
    "                    #print(\"remote-interface\")\n",
    "                    cdpNeighbor[\"local-interface\"].append(\"interface not found\")\n",
    "                    cdpNeighbor[\"remote-interface\"].append(\"interface not found\")        \n",
    "        count +=1\n",
    "    return cdpNeighbor\n"
   ]
  },
  {
   "cell_type": "code",
   "execution_count": 65,
   "metadata": {},
   "outputs": [],
   "source": [
    "def printErrToFile(msg,pathToCdpTextFile):\n",
    "    file = pathToCdpTextFile.replace(\"showcdpneidetail\", \"showcdperror\")\n",
    "    with open(file, \"w\") as text_file:\n",
    "        text_file.write(msg)\n"
   ]
  },
  {
   "cell_type": "code",
   "execution_count": 59,
   "metadata": {},
   "outputs": [],
   "source": [
    "def validateinput(cdpInput):\n",
    "    for line in cdpInput:\n",
    "        if \"% CDP is not enabled\" in line:\n",
    "            return 1\n",
    "        if \"displayed : 0\" in line:\n",
    "            return 1"
   ]
  },
  {
   "cell_type": "code",
   "execution_count": 60,
   "metadata": {},
   "outputs": [],
   "source": [
    "def main(pathToCdpTextFile,pathToCdpCsvFile):\n",
    "    \n",
    "    #Open textfile\n",
    "    cdpInput = OpenTextFile(pathToCdpTextFile)\n",
    "\n",
    "    #Validate input 0 = good 1 = bad\n",
    "    validationbit = 0\n",
    "    validationbit = validateinput(cdpInput)\n",
    "    if validationbit == 1:\n",
    "        #msg = \"Something input file not valid\"\n",
    "        #printErrToFile(msg,pathToCdpTextFile)\n",
    "        return\n",
    "        \n",
    "    \n",
    "    \n",
    "    #Make a cdp dictionary\n",
    "    try:\n",
    "        cdpNeighbor = makeCdpdict(cdpInput)\n",
    "    except:\n",
    "        msg = \"Something happend with the pharsing of the input\"\n",
    "        printErrToFile(msg,pathToCdpTextFile)\n",
    "        return\n",
    "\n",
    "    #export cdp dictionary to a csv file\n",
    "    dictToCsv(cdpNeighbor,pathToCdpCsvFile)\n",
    "\n",
    "\n",
    "if __name__ == \"__main__\":\n",
    "    main(pathToCdpTextFile,pathToCdpCsvFile)\n",
    "    #main()\n",
    "\n",
    "\n",
    "\n"
   ]
  },
  {
   "cell_type": "code",
   "execution_count": null,
   "metadata": {},
   "outputs": [],
   "source": []
  },
  {
   "cell_type": "code",
   "execution_count": null,
   "metadata": {},
   "outputs": [],
   "source": []
  },
  {
   "cell_type": "code",
   "execution_count": null,
   "metadata": {},
   "outputs": [],
   "source": []
  },
  {
   "cell_type": "code",
   "execution_count": null,
   "metadata": {},
   "outputs": [],
   "source": []
  },
  {
   "cell_type": "code",
   "execution_count": null,
   "metadata": {},
   "outputs": [],
   "source": []
  }
 ],
 "metadata": {
  "kernelspec": {
   "display_name": "Python 3",
   "language": "python",
   "name": "python3"
  },
  "language_info": {
   "codemirror_mode": {
    "name": "ipython",
    "version": 3
   },
   "file_extension": ".py",
   "mimetype": "text/x-python",
   "name": "python",
   "nbconvert_exporter": "python",
   "pygments_lexer": "ipython3",
   "version": "3.7.3"
  }
 },
 "nbformat": 4,
 "nbformat_minor": 2
}