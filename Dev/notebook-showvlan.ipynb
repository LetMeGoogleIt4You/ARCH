{
 "cells": [
  {
   "cell_type": "code",
   "execution_count": 4,
   "metadata": {},
   "outputs": [],
   "source": [
    "import csv\n",
    "\n",
    "pathToCsvFile = \"D:\\\\router\\\\showvlan.csv\"    \n",
    "pathToTextFile = \"D:\\\\router\\\\showvlan.txt\"  \n",
    "\n"
   ]
  },
  {
   "cell_type": "code",
   "execution_count": 5,
   "metadata": {},
   "outputs": [],
   "source": [
    "#Open textfile\n",
    "def OpenTextFile(file):\n",
    "    with open(file) as text_file:\n",
    "        text_file = text_file.read().splitlines()\n",
    "        return text_file\n",
    "\n"
   ]
  },
  {
   "cell_type": "code",
   "execution_count": 6,
   "metadata": {},
   "outputs": [],
   "source": [
    "def dictToVlan(results,resultsFile):\n",
    "    with open(resultsFile, 'w') as csvfile:\n",
    "        filewriter = csv.writer(csvfile, delimiter=',',lineterminator='\\r')\n",
    "        #for result in results:\n",
    "        #    filewriter.writerow([result[\"source\"],result[\"destination\"],result[\"IPaddress\"],result[\"status\"]])\n",
    "        count = 0\n",
    "        filewriter.writerow([\"VlanID\",\"Name\", \"Ports\"])\n",
    "        for item in range(0,len(results[\"VlanID\"])):\n",
    "            filewriter.writerow([results[\"VlanID\"][count],results[\"Name\"][count],results[\"Ports\"][count]])\n",
    "            count +=1\n"
   ]
  },
  {
   "cell_type": "code",
   "execution_count": 13,
   "metadata": {},
   "outputs": [],
   "source": [
    "\n",
    "#Make a cdp dictionary\n",
    "def makeVlanDict(VlanOutput):\n",
    "    #print(VlanOutput)\n",
    "    vlanDic = {\"VlanID\": [], \"Name\": [], \"Ports\":[]}\n",
    "    for line in VlanOutput:\n",
    "        if \"active\" in line:\n",
    "            #get vlan ID\n",
    "            #print(line.split(\" \")[0])\n",
    "            vlanDic[\"VlanID\"].append(line.split(\" \")[0])\n",
    "            \n",
    "            #Get vlan name\n",
    "            if len(line.split(\" \")[4])>2:\n",
    "                #print(line.split(\" \")[4])\n",
    "                vlanDic[\"Name\"].append(line.split(\" \")[4])\n",
    "            if len(line.split(\" \")[3])>2:\n",
    "                #print(line.split(\" \")[3])\n",
    "                vlanDic[\"Name\"].append(line.split(\" \")[3])\n",
    "            if len(line.split(\" \")[2])>2:\n",
    "                #print(line.split(\" \")[2])\n",
    "                vlanDic[\"Name\"].append(line.split(\" \")[2])\n",
    "            if len(line.split(\" \")[1])>2:\n",
    "                #print(line.split(\" \")[1])\n",
    "                vlanDic[\"Name\"].append(line.split(\" \")[1])\n",
    "            \n",
    "            #get ports\n",
    "            if len(line.split(\"active    \")[-1]) <1:\n",
    "                #print(\"N/A\")\n",
    "                vlanDic[\"Ports\"].append(\"N/A\")\n",
    "            if len(line.split(\"active    \")[-1]) > 1:\n",
    "                #print(line.split(\"active    \")[-1])\n",
    "                vlanDic[\"Ports\"].append(line.split(\"active    \")[-1])\n",
    "    return vlanDic\n",
    "    #print(len(vlanDic[\"VlanID\"]))\n",
    "    #print(len(vlanDic[\"Name\"]))\n",
    "    #print(len(vlanDic[\"Ports\"]))\n",
    "\n"
   ]
  },
  {
   "cell_type": "code",
   "execution_count": 14,
   "metadata": {},
   "outputs": [],
   "source": [
    "def validateinput(vlanOutput):\n",
    "    if len(vlanOutput) < 5:\n",
    "        return 1\n",
    "    for line in vlanOutput:\n",
    "        if \"% Incomplete command\" in line:\n",
    "            return 1\n",
    "        if \"% Ambiguous command\" in line:\n",
    "            return 1"
   ]
  },
  {
   "cell_type": "code",
   "execution_count": 15,
   "metadata": {},
   "outputs": [],
   "source": [
    "def printErrToFile(msg,pathToTextFile):\n",
    "    file = pathToTextFile.replace(\"showvlan\", \"showvlanerror\")\n",
    "    with open(file, \"w\") as text_file:\n",
    "        text_file.write(msg)\n"
   ]
  },
  {
   "cell_type": "code",
   "execution_count": 16,
   "metadata": {},
   "outputs": [],
   "source": [
    "\n",
    "def main(pathToTextFile,pathToCsvFile):\n",
    "    vlanOutput = OpenTextFile(pathToTextFile)\n",
    "\n",
    "\n",
    "    #Validate input 0 = good 1 = bad\n",
    "    validationbit = 0\n",
    "    validationbit = validateinput(vlanOutput)\n",
    "    if validationbit == 1:\n",
    "        #msg = \"Something input file not valid\"\n",
    "        #printErrToFile(msg,pathToTextFile)\n",
    "        return\n",
    "\n",
    "    #Make a vrf dictionary\n",
    "    try:\n",
    "        vlanDict = makeVlanDict(vlanOutput)\n",
    "    except:\n",
    "        msg = \"Something happend with the pharsing of the input\"\n",
    "        printErrToFile(msg,pathToTextFile)\n",
    "        return\n",
    "\n",
    "    dictToVlan(vlanDict,pathToCsvFile)\n",
    "\n",
    "\n",
    "if __name__ == \"__main__\":\n",
    "    main(pathToTextFile,pathToCsvFile)\n"
   ]
  },
  {
   "cell_type": "code",
   "execution_count": null,
   "metadata": {},
   "outputs": [],
   "source": []
  },
  {
   "cell_type": "code",
   "execution_count": null,
   "metadata": {},
   "outputs": [],
   "source": []
  }
 ],
 "metadata": {
  "kernelspec": {
   "display_name": "Python 3",
   "language": "python",
   "name": "python3"
  },
  "language_info": {
   "codemirror_mode": {
    "name": "ipython",
    "version": 3
   },
   "file_extension": ".py",
   "mimetype": "text/x-python",
   "name": "python",
   "nbconvert_exporter": "python",
   "pygments_lexer": "ipython3",
   "version": "3.7.3-final"
  }
 },
 "nbformat": 4,
 "nbformat_minor": 2
}