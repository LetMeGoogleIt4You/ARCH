{
 "cells": [
  {
   "cell_type": "code",
   "execution_count": 10,
   "metadata": {},
   "outputs": [],
   "source": [
    "import csv\n",
    "\n",
    "pathToCsvFile = \"D:\\\\router\\\\showversion.csv\"\n",
    "pathToTextFile = \"D:\\\\router\\\\showversion.txt\"\n",
    "\n"
   ]
  },
  {
   "cell_type": "code",
   "execution_count": 11,
   "metadata": {},
   "outputs": [],
   "source": [
    "def OpenTextFile(path):\n",
    "    with open(path) as text_file:\n",
    "        text_file = text_file.read().splitlines()\n",
    "        return text_file\n"
   ]
  },
  {
   "cell_type": "code",
   "execution_count": 12,
   "metadata": {},
   "outputs": [],
   "source": [
    "def dictToCsv(results,resultsFile):\n",
    "    with open(resultsFile, 'w') as csvfile:\n",
    "        filewriter = csv.writer(csvfile, delimiter=',',lineterminator='\\r')\n",
    "        #for result in results:\n",
    "        #    filewriter.writerow([result[\"source\"],result[\"destination\"],result[\"IPaddress\"],result[\"status\"]])\n",
    "        count = 0\n",
    "        filewriter.writerow([\"Hostname\",\"Model\", \"Version\", \"Uptime\", \"SystemImage\", \"ConfigurationRegister\"])\n",
    "        for item in range(0,len(results[\"Hostname\"])):\n",
    "            filewriter.writerow([results[\"Hostname\"][count],results[\"Model\"][count],results[\"Version\"][count],results[\"Uptime\"][count],results[\"SystemImage\"][count],results[\"ConfigurationRegister\"][count]])\n",
    "            count +=1\n"
   ]
  },
  {
   "cell_type": "code",
   "execution_count": 33,
   "metadata": {},
   "outputs": [],
   "source": [
    "def makeVersionDict(showVersion):\n",
    "\n",
    "    VersionStatus = {\"Hostname\":[],\"Model\":[],\"Version\":[],\"Uptime\":[],\"SystemImage\":[],\"ConfigurationRegister\":[] }\n",
    "    count = 0\n",
    "\n",
    "    #iterate over all lines in the showInterface list\n",
    "    #print(showInterface)\n",
    "    for line in showVersion:\n",
    "        #print(line)\n",
    "        #Get version\n",
    "        if \"), Version\"  in line:\n",
    "            #print(line.split(', Version')[1].split(\",\")[0])\n",
    "            VersionStatus[\"Version\"].append(line.split(', Version')[1].split(\",\")[0])\n",
    "        #Get hostname and uptime\n",
    "        if \"uptime is\" in line:\n",
    "            #print(line.split(\" \")[0])\n",
    "            VersionStatus[\"Hostname\"].append(line.split(\" \")[0])\n",
    "        #Get uptime\n",
    "        if \" uptime \" in line:\n",
    "            VersionStatus[\"Uptime\"].append(line.split(\"uptime is \")[-1])\n",
    "        #Get system image\n",
    "        if \"System image\" in line:\n",
    "            VersionStatus[\"SystemImage\"].append(line.split('is \"')[1].replace('\"',''))\n",
    "            #print(line.split('is \"')[1].replace('\"',''))\n",
    "        #Get model\n",
    "        if \"Processor board ID \" in line:\n",
    "            VersionStatus[\"Model\"].append(showVersion[count-1].split(\" \")[1])\n",
    "            #print(showVersion[count-1].split(\" \")[1])\n",
    "        if \"Configuration register\" in line:\n",
    "            VersionStatus[\"ConfigurationRegister\"].append(line.split(\"register is \")[-1])\n",
    "            #print(line.split(\"register is \")[-1])\n",
    "        count +=1\n",
    "    #print(VersionStatus)\n",
    "    return VersionStatus\n"
   ]
  },
  {
   "cell_type": "code",
   "execution_count": 34,
   "metadata": {
    "tags": []
   },
   "outputs": [],
   "source": [
    "def main(pathToTextFile,pathToCsvFile):\n",
    "    showVersion = OpenTextFile(pathToTextFile)\n",
    "\n",
    "    VersionStatus = makeVersionDict(showVersion)\n",
    "\n",
    "    dictToCsv(VersionStatus, pathToCsvFile)\n",
    "\n",
    "if __name__ == \"__main__\":\n",
    "    main(pathToTextFile,pathToCsvFile)"
   ]
  },
  {
   "cell_type": "code",
   "execution_count": null,
   "metadata": {},
   "outputs": [],
   "source": []
  },
  {
   "cell_type": "code",
   "execution_count": 1,
   "metadata": {},
   "outputs": [],
   "source": []
  },
  {
   "cell_type": "code",
   "execution_count": null,
   "metadata": {},
   "outputs": [],
   "source": []
  },
  {
   "cell_type": "code",
   "execution_count": null,
   "metadata": {},
   "outputs": [],
   "source": [
    "\n"
   ]
  },
  {
   "cell_type": "code",
   "execution_count": null,
   "metadata": {},
   "outputs": [],
   "source": []
  }
 ],
 "metadata": {
  "kernelspec": {
   "display_name": "Python 3",
   "language": "python",
   "name": "python3"
  },
  "language_info": {
   "codemirror_mode": {
    "name": "ipython",
    "version": 3
   },
   "file_extension": ".py",
   "mimetype": "text/x-python",
   "name": "python",
   "nbconvert_exporter": "python",
   "pygments_lexer": "ipython3",
   "version": "3.7.3"
  }
 },
 "nbformat": 4,
 "nbformat_minor": 2
}