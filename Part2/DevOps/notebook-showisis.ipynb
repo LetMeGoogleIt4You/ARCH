{
 "cells": [
  {
   "cell_type": "code",
   "execution_count": 51,
   "metadata": {},
   "outputs": [],
   "source": [
    "import csv\n",
    "\n",
    "pathToCsvFile = \"D:\\\\router\\\\showisisneidet.csv\"\n",
    "pathToTextFile = \"D:\\\\router\\\\showisisneidet.txt\"\n"
   ]
  },
  {
   "cell_type": "code",
   "execution_count": 52,
   "metadata": {},
   "outputs": [],
   "source": [
    "def OpenTextFile(path):\n",
    "    with open(path) as text_file:\n",
    "        text_file = text_file.read().splitlines()\n",
    "        return text_file\n"
   ]
  },
  {
   "cell_type": "code",
   "execution_count": 64,
   "metadata": {},
   "outputs": [],
   "source": [
    "def dictToCsv(results,resultsFile):\n",
    "    with open(resultsFile, 'w') as csvfile:\n",
    "        filewriter = csv.writer(csvfile, delimiter=',',lineterminator='\\r')\n",
    "        #for result in results:\n",
    "        #    filewriter.writerow([result[\"source\"],result[\"destination\"],result[\"IPaddress\"],result[\"status\"]])\n",
    "        count = 0\n",
    "        filewriter.writerow([\"Neighbor\",\"Type\", \"Interface\", \"IPaddress\", \"CircuitId\", \"State\",\"Uptime\"])\n",
    "        for item in range(0,len(results[\"Neighbor\"])):\n",
    "            filewriter.writerow([results[\"Neighbor\"][count],results[\"Type\"][count],results[\"Interface\"][count],results[\"IPaddress\"][count],results[\"CircuitId\"][count],results[\"State\"][count],results[\"Uptime\"][count]])\n",
    "            count +=1"
   ]
  },
  {
   "cell_type": "code",
   "execution_count": 65,
   "metadata": {},
   "outputs": [],
   "source": [
    "def makeIsisDict(isisInput):\n",
    "\n",
    "    isisStatus = {\"Neighbor\":[],\"Type\":[],\"Interface\":[],\"IPaddress\":[],\"CircuitId\":[],\"State\":[],\"Uptime\":[] }\n",
    "    \n",
    "    #iterate over showIsis\n",
    "    count = 0\n",
    "    for line in isisInput:\n",
    "        if \"State Changed\" in line:\n",
    "            cleanedList = []\n",
    "            #iterate over ar and clean up then line\n",
    "            for item in isisInput[count-3].split(\" \"):\n",
    "                if 1 < len(item):\n",
    "                    cleanedList.append(item)\n",
    "            isisStatus[\"Neighbor\"].append(cleanedList[0])\n",
    "            isisStatus[\"Type\"].append(cleanedList[1])\n",
    "            isisStatus[\"IPaddress\"].append(cleanedList[3])\n",
    "            isisStatus[\"State\"].append(cleanedList[4])\n",
    "            isisStatus[\"CircuitId\"].append(\" \"+cleanedList[5])\n",
    "            isisStatus[\"Uptime\"].append(line.split(\"Changed: \")[1])\n",
    "        if \"Interface name\" in line:\n",
    "            isisStatus[\"Interface\"].append(line.split(\"name: \")[1])\n",
    "            #print(line.split(\"name: \")[1])\n",
    "        count +=1\n",
    "        \n",
    "        \n",
    "    #print(isisStatus)\n",
    "    return isisStatus\n"
   ]
  },
  {
   "cell_type": "code",
   "execution_count": 74,
   "metadata": {},
   "outputs": [],
   "source": [
    "def printErrToFile(msg,pathToCdpTextFile):\n",
    "    file = pathToCdpTextFile.replace(\"showisisneidet\", \"showisiserror\")\n",
    "    with open(file, \"w\") as text_file:\n",
    "        text_file.write(msg)\n"
   ]
  },
  {
   "cell_type": "code",
   "execution_count": 75,
   "metadata": {},
   "outputs": [],
   "source": [
    "def validateinput(isisInput):\n",
    "    #print(isisInput)\n",
    "    if len(isisInput) < 2:\n",
    "        return 1\n",
    "    count = 0\n",
    "    for line in isisInput:\n",
    "        #print(line)\n",
    "        if \"State Changed\" in line:\n",
    "            #print(line)\n",
    "            count += 1\n",
    "            \n",
    "    if count == 0:\n",
    "        return 1"
   ]
  },
  {
   "cell_type": "code",
   "execution_count": 76,
   "metadata": {},
   "outputs": [],
   "source": [
    "def main(pathToTextFile,pathToCsvFile):\n",
    "    isisInput = OpenTextFile(pathToTextFile)\n",
    "\n",
    "    #Validate input 0 = good 1 = bad\n",
    "    validationbit = 0\n",
    "    validationbit = validateinput(isisInput)\n",
    "    if validationbit == 1:\n",
    "        #msg = \"Something input file not valid\"\n",
    "        #printErrToFile(msg,pathToTextFile)\n",
    "        return\n",
    "    \n",
    "    try:\n",
    "        isisStatus = makeIsisDict(isisInput)\n",
    "    except:\n",
    "        msg = \"Something happend with the pharsing of the input\"\n",
    "        printErrToFile(msg,pathToTextFile)\n",
    "        return\n",
    "\n",
    "    \n",
    "    \n",
    "    dictToCsv(isisStatus, pathToCsvFile)\n",
    "\n",
    "if __name__ == \"__main__\":\n",
    "    main(pathToTextFile,pathToCsvFile)"
   ]
  },
  {
   "cell_type": "code",
   "execution_count": null,
   "metadata": {},
   "outputs": [],
   "source": []
  },
  {
   "cell_type": "code",
   "execution_count": null,
   "metadata": {},
   "outputs": [],
   "source": []
  }
 ],
 "metadata": {
  "kernelspec": {
   "display_name": "Python 3",
   "language": "python",
   "name": "python3"
  },
  "language_info": {
   "codemirror_mode": {
    "name": "ipython",
    "version": 3
   },
   "file_extension": ".py",
   "mimetype": "text/x-python",
   "name": "python",
   "nbconvert_exporter": "python",
   "pygments_lexer": "ipython3",
   "version": "3.7.3"
  }
 },
 "nbformat": 4,
 "nbformat_minor": 2
}