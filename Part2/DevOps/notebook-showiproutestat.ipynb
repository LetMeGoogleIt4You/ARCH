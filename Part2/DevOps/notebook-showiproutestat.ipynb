{
 "cells": [
  {
   "cell_type": "code",
   "execution_count": 8,
   "metadata": {},
   "outputs": [],
   "source": [
    "import csv\n",
    "\n",
    "pathToCsvFile = \"D:\\\\router\\\\showiproutestat.csv\"    \n",
    "pathToTextFile = \"D:\\\\router\\\\showiproutestat.txt\"    "
   ]
  },
  {
   "cell_type": "code",
   "execution_count": 9,
   "metadata": {},
   "outputs": [],
   "source": [
    "#Open textfile\n",
    "def OpenStaticTextFile(file):\n",
    "    with open(file) as text_file:\n",
    "        text_file = text_file.read().splitlines()\n",
    "        return text_file\n"
   ]
  },
  {
   "cell_type": "code",
   "execution_count": 10,
   "metadata": {},
   "outputs": [],
   "source": [
    "#export cdp dictionary to a csv file\n",
    "def dictToStatic(results,resultsFile):\n",
    "    with open(resultsFile, 'w') as csvfile:\n",
    "        filewriter = csv.writer(csvfile, delimiter=',',lineterminator='\\r')\n",
    "        #for result in results:\n",
    "        #    filewriter.writerow([result[\"source\"],result[\"destination\"],result[\"IPaddress\"],result[\"status\"]])\n",
    "        count = 0\n",
    "        filewriter.writerow([\"Type\",\"Source\", \"Destination\"])\n",
    "        for item in range(0,len(results[\"Type\"])):\n",
    "            filewriter.writerow([results[\"Type\"][count],results[\"Source\"][count],results[\"Destination\"][count]])\n",
    "            count +=1\n"
   ]
  },
  {
   "cell_type": "code",
   "execution_count": 74,
   "metadata": {},
   "outputs": [],
   "source": [
    "#Make a static dictionary\n",
    "def makeStaticdict(staticOutput):\n",
    "    #print(StaticOutput)\n",
    "    staticRoute = {\"Type\": [], \"Source\": [], \"Destination\":[]}\n",
    "    for line in staticOutput:\n",
    "        if \"S    \" in line:\n",
    "            staticRoute[\"Type\"].append(\"Static\")\n",
    "            #print(line.replace(\" \",\"\").replace(\"S\",\"\").split(\"[\")[0])\n",
    "            staticRoute[\"Source\"].append(line.replace(\" \",\"\").replace(\"S\",\"\").split(\"[\")[0])\n",
    "            #print(line.split(\"via \")[-1])\n",
    "            staticRoute[\"Destination\"].append(line.split(\"via \")[-1])\n",
    "        if \"S*   \" in line:\n",
    "            staticRoute[\"Type\"].append(\"Static\")\n",
    "            #print(line.replace(\" \",\"\").replace(\"S*\",\"\").split(\"[\")[0])\n",
    "            staticRoute[\"Source\"].append(line.replace(\" \",\"\").replace(\"S*\",\"\").split(\"[\")[0])\n",
    "            #print(line.split(\"via \")[-1])\n",
    "            staticRoute[\"Destination\"].append(line.split(\"via \")[-1])\n",
    "    #print(staticRoute)           \n",
    "    return staticRoute\n"
   ]
  },
  {
   "cell_type": "code",
   "execution_count": 75,
   "metadata": {},
   "outputs": [],
   "source": [
    "def validateinput(staticOutput):\n",
    "    staticCounter = 0\n",
    "    for line in staticOutput:\n",
    "        if \"S*  \" in line:\n",
    "            staticCounter +=1\n",
    "        if \"S   \" in line:\n",
    "            staticCounter +=1\n",
    "    if staticCounter == 0:\n",
    "        return 1"
   ]
  },
  {
   "cell_type": "code",
   "execution_count": 76,
   "metadata": {},
   "outputs": [],
   "source": [
    "\n",
    "def printErrToFile(msg,pathToTextFile):\n",
    "    file = pathToTextFile.replace(\"howiproutestat\", \"howiprouteerror\")\n",
    "    with open(file, \"w\") as text_file:\n",
    "        text_file.write(msg)\n"
   ]
  },
  {
   "cell_type": "code",
   "execution_count": 77,
   "metadata": {},
   "outputs": [],
   "source": [
    "\n",
    "def main(pathToTextFile,pathToCsvFile):\n",
    "    staticOutput = OpenStaticTextFile(pathToTextFile)\n",
    "\n",
    "    #Validate input 0 = good 1 = bad\n",
    "    validationbit = 0\n",
    "    validationbit = validateinput(staticOutput)\n",
    "    if validationbit == 1:\n",
    "        #msg = \"Something input file not valid\"\n",
    "        #printErrToFile(msg,pathToCdpTextFile)\n",
    "        return\n",
    "    \n",
    "\n",
    "    try:\n",
    "        staticRoute = makeStaticdict(staticOutput)\n",
    "    except:\n",
    "        msg = \"Something happend with the pharsing of the input\"\n",
    "        printErrToFile(msg,pathToTextFile)\n",
    "        return\n",
    "\n",
    "if __name__ == \"__main__\":\n",
    "    main(pathToTextFile,pathToCsvFile)\n"
   ]
  },
  {
   "cell_type": "code",
   "execution_count": null,
   "metadata": {},
   "outputs": [],
   "source": []
  }
 ],
 "metadata": {
  "kernelspec": {
   "display_name": "Python 3",
   "language": "python",
   "name": "python3"
  },
  "language_info": {
   "codemirror_mode": {
    "name": "ipython",
    "version": 3
   },
   "file_extension": ".py",
   "mimetype": "text/x-python",
   "name": "python",
   "nbconvert_exporter": "python",
   "pygments_lexer": "ipython3",
   "version": "3.7.3-final"
  }
 },
 "nbformat": 4,
 "nbformat_minor": 2
}