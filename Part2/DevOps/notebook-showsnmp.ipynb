{
 "cells": [
  {
   "cell_type": "code",
   "execution_count": 6,
   "metadata": {},
   "outputs": [],
   "source": [
    "import csv\n",
    "\n",
    "pathToCsvFile = \"D:\\\\router\\\\showsnmp.csv\"\n",
    "pathToTextFile = \"D:\\\\router\\\\showsnmp.txt\"\n"
   ]
  },
  {
   "cell_type": "code",
   "execution_count": 7,
   "metadata": {},
   "outputs": [],
   "source": [
    "def OpenTextFile(path):\n",
    "    with open(path) as text_file:\n",
    "        text_file = text_file.read().splitlines()\n",
    "        return text_file\n"
   ]
  },
  {
   "cell_type": "code",
   "execution_count": 8,
   "metadata": {},
   "outputs": [],
   "source": [
    "def dictToCsv(results,resultsFile):\n",
    "    with open(resultsFile, 'w') as csvfile:\n",
    "        filewriter = csv.writer(csvfile, delimiter=',',lineterminator='\\r')\n",
    "\n",
    "        \n",
    "        count = 0\n",
    "        filewriter.writerow([\"Contact\",\"Location\", \"Servers\", \"Port\"])\n",
    "        \n",
    "        for item in range(0,len(results[\"Contact\"])):\n",
    "            filewriter.writerow([results[\"Contact\"][count],results[\"Location\"][count],results[\"Servers\"][count],results[\"Port\"][count]])\n",
    "            count +=1\n"
   ]
  },
  {
   "cell_type": "code",
   "execution_count": 9,
   "metadata": {},
   "outputs": [],
   "source": [
    "def makeSnmpDict(showSnmp):\n",
    "\n",
    "    snmpStatus = {\"Contact\":[],\"Location\":[],\"Servers\":[],\"Port\":[] }\n",
    "    \n",
    "    serverCounter = 0\n",
    "    contactCounter = 0\n",
    "    locationCounter = 0\n",
    "    \n",
    "    for line in showSnmp:\n",
    "        #print(line)\n",
    "        if \"Contact\" in line:\n",
    "            snmpStatus[\"Contact\"].append(line.split(\"Contact: \")[1])\n",
    "            contactCounter +=1\n",
    "            #print(line.split(\": \")[1])        \n",
    "        if \"Location\" in line:\n",
    "            snmpStatus[\"Location\"].append(line.split(\"Location: \")[1])\n",
    "            locationCounter +=1\n",
    "            #print(line.split(\": \")[1])\n",
    "        if \"Logging to \" in line:\n",
    "            ipAddressAndPort = line.split(\" to \")[1].split(\", \")[0]\n",
    "            last_char_index = ipAddressAndPort.rfind(\".\")\n",
    "            ipAddress = ipAddressAndPort[:last_char_index]\n",
    "            port = ipAddressAndPort[last_char_index+1:]\n",
    "            \n",
    "            snmpStatus[\"Servers\"].append(ipAddress)\n",
    "            snmpStatus[\"Port\"].append(port)\n",
    "            #print(ipAddress)\n",
    "            #print(port)\n",
    "            serverCounter +=1\n",
    "            if serverCounter > 1:\n",
    "                #print(\"N/A\")\n",
    "                snmpStatus[\"Contact\"].append(\"N/A\")\n",
    "                snmpStatus[\"Location\"].append(\"N/A\")\n",
    "                \n",
    "    if contactCounter == 0:\n",
    "        snmpStatus[\"Contact\"].append(\"N/A\")\n",
    "    if locationCounter == 0:\n",
    "        snmpStatus[\"Location\"].append(\"N/A\")\n",
    "    \n",
    "    \n",
    "    #print(snmpStatus)\n",
    "    return snmpStatus"
   ]
  },
  {
   "cell_type": "code",
   "execution_count": 19,
   "metadata": {},
   "outputs": [],
   "source": [
    "def validateinput(showSnmp):\n",
    "    if len(showSnmp) < 2:\n",
    "        return 1\n",
    "    for line in showSnmp:\n",
    "        if \"%SNMP agent not enabled\" in line:\n",
    "            return 1\n",
    "\n"
   ]
  },
  {
   "cell_type": "code",
   "execution_count": 20,
   "metadata": {},
   "outputs": [],
   "source": [
    "\n",
    "\n",
    "def printErrToFile(msg,pathToTextFile):\n",
    "    file = pathToTextFile.replace(\"showvrf\", \"showvrferror\")\n",
    "    with open(file, \"w\") as text_file:\n",
    "        text_file.write(msg)"
   ]
  },
  {
   "cell_type": "code",
   "execution_count": 21,
   "metadata": {
    "scrolled": true
   },
   "outputs": [],
   "source": [
    "def main(pathToTextFile,pathToCsvFile):\n",
    "    showSnmp = OpenTextFile(pathToTextFile)\n",
    "\n",
    "    #Validate input 0 = good 1 = bad\n",
    "    validationbit = 0\n",
    "    validationbit = validateinput(showSnmp)\n",
    "    if validationbit == 1:\n",
    "        #msg = \"Something input file not valid\"\n",
    "        #printErrToFile(msg,pathToTextFile)\n",
    "        return\n",
    "            \n",
    "\n",
    "    #Make a snmp dictionary\n",
    "    try:\n",
    "        snmpStatus = makeSnmpDict(showSnmp)\n",
    "    except:\n",
    "        msg = \"Something happend with the pharsing of the input\"\n",
    "        printErrToFile(msg,pathToTextFile)\n",
    "        return\n",
    "\n",
    "\n",
    "\n",
    "    dictToCsv(snmpStatus, pathToCsvFile)\n",
    "\n",
    "if __name__ == \"__main__\":\n",
    "    main(pathToTextFile,pathToCsvFile)"
   ]
  },
  {
   "cell_type": "code",
   "execution_count": null,
   "metadata": {},
   "outputs": [],
   "source": []
  },
  {
   "cell_type": "code",
   "execution_count": 16,
   "metadata": {},
   "outputs": [
    {
     "output_type": "stream",
     "name": "stdout",
     "text": [
      "sentence one. sentence two, sentence three\n"
     ]
    }
   ],
   "source": []
  },
  {
   "cell_type": "code",
   "execution_count": null,
   "metadata": {},
   "outputs": [],
   "source": []
  }
 ],
 "metadata": {
  "kernelspec": {
   "display_name": "Python 3",
   "language": "python",
   "name": "python3"
  },
  "language_info": {
   "codemirror_mode": {
    "name": "ipython",
    "version": 3
   },
   "file_extension": ".py",
   "mimetype": "text/x-python",
   "name": "python",
   "nbconvert_exporter": "python",
   "pygments_lexer": "ipython3",
   "version": "3.7.3-final"
  }
 },
 "nbformat": 4,
 "nbformat_minor": 2
}