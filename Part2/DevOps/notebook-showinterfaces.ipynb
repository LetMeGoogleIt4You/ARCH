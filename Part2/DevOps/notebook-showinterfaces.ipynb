{
 "metadata": {
  "language_info": {
   "codemirror_mode": {
    "name": "ipython",
    "version": 3
   },
   "file_extension": ".py",
   "mimetype": "text/x-python",
   "name": "python",
   "nbconvert_exporter": "python",
   "pygments_lexer": "ipython3",
   "version": "3.7.3-final"
  },
  "orig_nbformat": 2,
  "kernelspec": {
   "name": "python3",
   "display_name": "Python 3"
  }
 },
 "nbformat": 4,
 "nbformat_minor": 2,
 "cells": [
  {
   "cell_type": "code",
   "execution_count": 1,
   "metadata": {},
   "outputs": [],
   "source": [
    "import csv\n",
    "#import pandas as pd\n",
    "import re\n",
    "items =('Interface', '123')\n",
    "\n",
    "pathToCsvFile = \"D:\\\\router\\\\showinterfaces.csv\"    \n",
    "pathToTextFile = \"D:\\\\router\\\\showinterfaces.txt\"    \n"
   ]
  },
  {
   "cell_type": "code",
   "execution_count": 2,
   "metadata": {},
   "outputs": [],
   "source": [
    "def OpenTextFile(path):\n",
    "    with open(path) as text_file:\n",
    "        text_file = text_file.read().splitlines()\n",
    "        return text_file\n"
   ]
  },
  {
   "cell_type": "code",
   "execution_count": 3,
   "metadata": {},
   "outputs": [],
   "source": [
    "def dictToCsv(results,resultsFile):\n",
    "    with open(resultsFile, 'w') as csvfile:\n",
    "        filewriter = csv.writer(csvfile, delimiter=',',lineterminator='\\r')\n",
    "        #for result in results:\n",
    "        #    filewriter.writerow([result[\"source\"],result[\"destination\"],result[\"IPaddress\"],result[\"status\"]])\n",
    "        count = 0\n",
    "        filewriter.writerow([\"Interface-name\",\"Status\", \"Protocol\", \"Description\", \"Internet-address\", \"Duplex\", \"Speed\", \"Media-type\"])\n",
    "        for item in range(0,len(results[\"Interface-name\"])):\n",
    "            filewriter.writerow([results[\"Interface-name\"][count],results[\"Status\"][count],results[\"Protocol\"][count],results[\"Description\"][count],results[\"Internet-address\"][count],results[\"Duplex\"][count],results[\"Speed\"][count],results[\"Media-type\"][count]])\n",
    "            count +=1\n"
   ]
  },
  {
   "cell_type": "code",
   "execution_count": 11,
   "metadata": {},
   "outputs": [],
   "source": [
    "def makeInterfaceDict(showInterface):\n",
    "    global items\n",
    "    \n",
    "    interfaceNames = [\"TenGigabitEthernet\",\"GigabitEthernet\",\"Ethernet-Internal\",\"Loopback\", \"Tunnel\",\"Port-channel\",\"Vlan\",\"Cellular\",\"FastEthernet\"]\n",
    "    InterfaceStatus = {\"Interface-name\":[],\"Status\":[],\"Protocol\":[],\"Description\":[],\"Internet-address\":[],\"Duplex\":[],\"Speed\":[],\"Media-type\":[] }\n",
    "    count = 0\n",
    "\n",
    "    #iterate over all lines in the showInterface list\n",
    "    #print(showInterface)\n",
    "    for line in showInterface:\n",
    "        #iterate over all lines in the interfaceNames list\n",
    "        for interfacename in interfaceNames:\n",
    "            #removes the numbers from <interface*/*/>\n",
    "            match = re.match(r\"([a-z]+)([0-9]+)\", line, re.I)\n",
    "            if match:\n",
    "                items = match.groups()\n",
    "                #print(items)\n",
    "            if interfacename == items[0] and \" line \" in line:\n",
    "                #print(line)\n",
    "                #print(line.split(\" is \")[0])\n",
    "                InterfaceStatus[\"Interface-name\"].append(line.split(\" is \")[0])\n",
    "                #print(line.split(\" is \")[1].split(\",\")[0])\n",
    "                InterfaceStatus[\"Status\"].append(line.split(\" is \")[1].split(\",\")[0])\n",
    "                #print(line.split(\" is \")[2])\n",
    "                InterfaceStatus[\"Protocol\"].append(line.split(\" is \")[2])\n",
    "                if \"Description\" in showInterface[count+2]:\n",
    "                    #print(showInterface[count+2].split(\" Description: \")[1])\n",
    "                    InterfaceStatus[\"Description\"].append(showInterface[count+2].split(\" Description: \")[1])\n",
    "                if \"Description\" not in showInterface[count+2]:\n",
    "                    #print(\"Description not set\")\n",
    "                    InterfaceStatus[\"Description\"].append(\"Description not set\")\n",
    "                if \"Internet address\" in showInterface[count+2]:\n",
    "                    #print(showInterface[count+2])\n",
    "                    if \"negotiated\" in showInterface[count+2]:\n",
    "                        #print(showInterface[count+2].split(\" \")[-1])\n",
    "                        InterfaceStatus[\"Internet-address\"].append(showInterface[count+2].split(\" \")[-1])\n",
    "                    else:\n",
    "                        #print(showInterface[count+2].split(\"  Internet address is \")[1])\n",
    "                        InterfaceStatus[\"Internet-address\"].append(showInterface[count+2].split(\"Internet address is \")[1])\n",
    "                if \"Internet address\" in showInterface[count+3]:\n",
    "                    #print(showInterface[count+3])\n",
    "                    if \"negotiated\" in showInterface[count+3]:\n",
    "                        #print(showInterface[count+2].split(\" \")[-1])\n",
    "                        InterfaceStatus[\"Internet-address\"].append(showInterface[count+3].split(\" \")[-1])\n",
    "                    else:\n",
    "                        #print(showInterface[count+3].split(\"  Internet address is \")[1])\n",
    "                        InterfaceStatus[\"Internet-address\"].append(showInterface[count+3].split(\"Internet address is \")[1])\n",
    "                if \"Internet address\" in showInterface[count+4]:\n",
    "                    #print(showInterface[count+4])\n",
    "                    if \"negotiated\" in showInterface[count+4]:\n",
    "                        #print(showInterface[count+2].split(\" \")[-1])\n",
    "                        InterfaceStatus[\"Internet-address\"].append(showInterface[count+4].split(\" \")[-1])\n",
    "                    else:\n",
    "                        #print(showInterface[count+4].split(\"  Internet address is \")[1])\n",
    "                        InterfaceStatus[\"Internet-address\"].append(showInterface[count+4].split(\"Internet address is\")[1])\n",
    "                if \"Internet address\" not in showInterface[count+3] and \"Internet address\" not in showInterface[count+4] and \"Internet address\" not in showInterface[count+2]:\n",
    "                    #print(\"Internet address not set\")\n",
    "                    InterfaceStatus[\"Internet-address\"].append(\"Internet address not set\")\n",
    "        if \" Keepalive \" in showInterface[count]:\n",
    "            if \"uplex\" in showInterface[count+1]:\n",
    "                #print(showInterface[count+1].replace(\" \",\"\").split(\",\")[0])\n",
    "                InterfaceStatus[\"Duplex\"].append(showInterface[count+1].replace(\" \",\"\").split(\",\")[0])\n",
    "                #print(showInterface[count+1].split(\", \")[1])\n",
    "                InterfaceStatus[\"Speed\"].append(showInterface[count+1].split(\", \")[1])\n",
    "                #print(showInterface[count+1].split(\", \")[3].split(\"is \")[1])\n",
    "            if \"media\" in showInterface[count+1]:\n",
    "                InterfaceStatus[\"Media-type\"].append(showInterface[count+1].split(\"media type is \")[1])\n",
    "            if \"uplex\"not in showInterface[count+1]:\n",
    "                #print(\"Duplex not set\")\n",
    "                InterfaceStatus[\"Duplex\"].append(\"Duplex not set\")\n",
    "                #print(\"Speed not set\")\n",
    "                InterfaceStatus[\"Speed\"].append(\"Speed not set\")\n",
    "            if \"media\" not in showInterface[count+1]:\n",
    "                InterfaceStatus[\"Media-type\"].append(\"Media type not set\")      \n",
    "        count +=1\n",
    "    #print(InterfaceStatus)\n",
    "    return InterfaceStatus\n"
   ]
  },
  {
   "cell_type": "code",
   "execution_count": 12,
   "metadata": {},
   "outputs": [],
   "source": [
    "def printErrToFile(msg,pathToTextFile):\n",
    "    file = pathToTextFile.replace(\"showinterfaces\", \"showinterfaceserror\")\n",
    "    with open(file, \"w\") as text_file:\n",
    "        text_file.write(msg)"
   ]
  },
  {
   "cell_type": "code",
   "execution_count": 14,
   "metadata": {},
   "outputs": [],
   "source": [
    "def main(pathToTextFile,pathToCsvFile):\n",
    "    showInterface = OpenTextFile(pathToTextFile)\n",
    "\n",
    "\n",
    "    ##Make a vrf dictionary\n",
    "    try:\n",
    "        InterfaceStatus = makeInterfaceDict(showInterface)\n",
    "    except:\n",
    "        msg = \"Something happend with the pharsing of the input\"\n",
    "        printErrToFile(msg,pathToTextFile)\n",
    "        return\n",
    "\n",
    "    \n",
    "    #print(InterfaceStatus)\n",
    "    dictToCsv(InterfaceStatus, pathToCsvFile)\n",
    "\n",
    "\n",
    "if __name__ == \"__main__\":\n",
    "    main(pathToTextFile,pathToCsvFile)\n"
   ]
  },
  {
   "cell_type": "code",
   "execution_count": null,
   "metadata": {},
   "outputs": [],
   "source": []
  },
  {
   "cell_type": "code",
   "execution_count": null,
   "metadata": {},
   "outputs": [],
   "source": []
  }
 ]
}